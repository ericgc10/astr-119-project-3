{
 "cells": [
  {
   "cell_type": "markdown",
   "metadata": {},
   "source": [
    "# Project 3: Astronomical Source Detection\n",
    "## Eric Gonzalez Corona\n",
    "-------------------------------------------\n",
    "# Part 2: HST image analysis\n"
   ]
  },
  {
   "cell_type": "markdown",
   "metadata": {},
   "source": [
    "## Import numpy and sep"
   ]
  },
  {
   "cell_type": "code",
   "execution_count": null,
   "metadata": {},
   "outputs": [],
   "source": [
    "import numpy as np\n",
    "import sep"
   ]
  },
  {
   "cell_type": "markdown",
   "metadata": {},
   "source": [
    "## Follow the same steps,initially,as we did for the tutorial. Once again,note that we \n",
    "## are using astropy as opposed to fitsio"
   ]
  },
  {
   "cell_type": "code",
   "execution_count": null,
   "metadata": {},
   "outputs": [],
   "source": [
    "from astropy.io import fits # or should it be import astropy.io\n",
    "import matplotlib.pyplot as plt\n",
    "from matplotlib import rcParams\n",
    "%matplotlib inline\n",
    "\n",
    "rcParams['figure.figsize'] = [10., 8.] # Set the size: do it once here, and never have to do it again in later in the \n",
    "                                        #code"
   ]
  },
  {
   "cell_type": "markdown",
   "metadata": {},
   "source": [
    "## Open the fits file, which was downloaded from \"https://archive.stsci.edu/pub/hlsp/hudf12/\"\n"
   ]
  },
  {
   "cell_type": "code",
   "execution_count": null,
   "metadata": {},
   "outputs": [],
   "source": [
    "fname = \"hlsp_hudf12_hst_wfc3ir_udfmain_f105w_v1.0_drz.fits\" # already in same folder\n",
    "hdu_list = fits.open(fname)\n",
    "hdu_list.info()"
   ]
  },
  {
   "cell_type": "markdown",
   "metadata": {},
   "source": [
    "## Image information stored in PRIMARY block, accessed by indexing hdu_list"
   ]
  },
  {
   "cell_type": "code",
   "execution_count": null,
   "metadata": {},
   "outputs": [],
   "source": [
    "image_data = hdu_list[\"PRIMARY\"].data"
   ]
  },
  {
   "cell_type": "markdown",
   "metadata": {},
   "source": [
    "## close FITS file because stored as a variable"
   ]
  },
  {
   "cell_type": "code",
   "execution_count": null,
   "metadata": {},
   "outputs": [],
   "source": [
    "hdu_list.close()"
   ]
  },
  {
   "cell_type": "markdown",
   "metadata": {},
   "source": [
    "## showing the data"
   ]
  },
  {
   "cell_type": "code",
   "execution_count": null,
   "metadata": {},
   "outputs": [],
   "source": [
    "# show the image\n",
    "m, s = np.mean(image_data), np.std(image_data)\n",
    "plt.imshow(image_data, interpolation='nearest', cmap='gray', vmin=0, vmax=m+s, origin='lower')\n",
    "plt.colorbar();\n",
    "\n",
    "#vmin = 0 yields a better looking image, so will keep it as that, that way there is very \n",
    "#little grey\n",
    "\n",
    "\n",
    "plt.savefig('skyview2.png' , bbox_inches=\"tight\",dpi=600)"
   ]
  },
  {
   "cell_type": "markdown",
   "metadata": {},
   "source": [
    "## Background subtraction time, taking away outliers, black is the outlier\n",
    "-------\n",
    "## Mask is a true/false array-boolean, where true = you mask the value, false= we don't mask\n",
    "## that value.\n",
    "## I wanted to mask the corners, because the corners are off(all back, nothing there). Make a true false array that is true in the corners but false everywhere else, so that the mask, will mask out corners.This gets rid of some of the noise which makes our data more accuate and easier to count the amount of sources in the corners but false everywhere else, so that the mask will mask out corners. \n",
    "## Corners are all at 0, insides are at varing ranges. Taking out everything that is zero takes out corners"
   ]
  },
  {
   "cell_type": "code",
   "execution_count": null,
   "metadata": {},
   "outputs": [],
   "source": [
    "image_data = image_data.byteswap().newbyteorder()\n",
    "bkg = sep.Background(image_data,mask =(image_data==0)) # this gives us the true/false array we want"
   ]
  },
  {
   "cell_type": "code",
   "execution_count": null,
   "metadata": {},
   "outputs": [],
   "source": [
    "print(bkg.globalback)\n",
    "print(bkg.globalrms)\n",
    "\n",
    "\n",
    "\n",
    "\n"
   ]
  },
  {
   "cell_type": "code",
   "execution_count": null,
   "metadata": {},
   "outputs": [],
   "source": [
    "bkg_image = bkg.back()\n",
    "# bkg_image = np.array(bkg) # equivalent to above"
   ]
  },
  {
   "cell_type": "markdown",
   "metadata": {},
   "source": [
    "## show the background"
   ]
  },
  {
   "cell_type": "code",
   "execution_count": null,
   "metadata": {},
   "outputs": [],
   "source": [
    "\n",
    "plt.imshow(bkg_image, interpolation='nearest', cmap='gray', origin='lower')\n",
    "plt.colorbar();\n",
    "plt.colorbar();\n",
    "plt.savefig('background2.png' , bbox_inches=\"tight\",dpi=600)"
   ]
  },
  {
   "cell_type": "code",
   "execution_count": null,
   "metadata": {},
   "outputs": [],
   "source": [
    "# evaluate the background noise as 2-d array, same size as original image\n",
    "bkg_rms = bkg.rms()"
   ]
  },
  {
   "cell_type": "code",
   "execution_count": null,
   "metadata": {},
   "outputs": [],
   "source": [
    "# show the background noise\n",
    "plt.imshow(bkg_rms, interpolation='nearest', cmap='gray', origin='lower')\n",
    "plt.colorbar();\n",
    "plt.savefig('noise2.png' , bbox_inches=\"tight\",dpi=600)"
   ]
  },
  {
   "cell_type": "code",
   "execution_count": null,
   "metadata": {},
   "outputs": [],
   "source": [
    "\n",
    "# subtract the background\n",
    "data_sub = image_data - bkg"
   ]
  },
  {
   "cell_type": "markdown",
   "metadata": {},
   "source": [
    "## Object detection\n",
    "## Notice that in Part 2 out sigma value(threshold) is now set to 5, I tried several values(guess and check ) and noticed that it yielded the best answer."
   ]
  },
  {
   "cell_type": "code",
   "execution_count": null,
   "metadata": {},
   "outputs": [],
   "source": [
    "objects = sep.extract(data_sub, 5, err=bkg.globalrms)\n",
    "\n",
    "# how many objects were detected\n",
    "print(len(objects))\n",
    "\n",
    "\n",
    "from matplotlib.patches import Ellipse\n",
    "\n",
    "# plot background-subtracted image\n",
    "fig, ax = plt.subplots()\n",
    "m, s = np.mean(data_sub), np.std(data_sub)\n",
    "im = ax.imshow(data_sub, interpolation='nearest', cmap='gray',\n",
    "               vmin=0, vmax=m+s, origin='lower')\n",
    "\n",
    "# plot an ellipse for each object\n",
    "for i in range(len(objects)):\n",
    "    e = Ellipse(xy=(objects['x'][i], objects['y'][i]),\n",
    "                width=6*objects['a'][i],\n",
    "                height=6*objects['b'][i],\n",
    "                angle=objects['theta'][i] * 180. / np.pi)\n",
    "    e.set_facecolor('none')\n",
    "    e.set_edgecolor('red')\n",
    "    ax.add_artist(e)\n"
   ]
  },
  {
   "cell_type": "markdown",
   "metadata": {},
   "source": [
    "## Visually, the image on top looks pretty good, previously If I tried the exact same method as the tutorial is was just a sea of red, it was circling way too much. Using the technique/code that I did yields a nice result that tells us that there are a total(approxmately) 1353 objects. \n",
    "## Its important to note that increasing or decreasing sigma is one of the factors in determining how accurate the code detects the amount of objects in this image.\n",
    "-------------\n",
    "\n",
    "\n",
    "# Now we display the flux of all the objects it detected which stored an an array."
   ]
  },
  {
   "cell_type": "code",
   "execution_count": null,
   "metadata": {},
   "outputs": [],
   "source": [
    "flux, fluxerr, flag = sep.sum_circle(data_sub, objects['x'], objects['y'],\n",
    "                                     3.0, err=bkg.globalrms, gain=1.0)\n",
    "    \n",
    "    "
   ]
  },
  {
   "cell_type": "code",
   "execution_count": null,
   "metadata": {},
   "outputs": [],
   "source": [
    "print(flux)\n",
    "len(flux) # tells us how many objects it has the flux of, this is another indication of\n",
    "            #how many objects there are"
   ]
  },
  {
   "cell_type": "markdown",
   "metadata": {},
   "source": [
    "## #This histogram, shows us that we have mostly faint stars in the image, 0-1 flux, and very few promininet bright objects\n",
    "## We ignored outliers by making the range= 0-5\n",
    "## This histograms shows us how the flux is acting in general for the image at hand"
   ]
  },
  {
   "cell_type": "code",
   "execution_count": null,
   "metadata": {},
   "outputs": [],
   "source": [
    "plt.hist(flux,bins = 100,range = [0,5])\n",
    "plt.xlabel(\"Flux\")\n",
    "plt.show()"
   ]
  }
 ],
 "metadata": {
  "kernelspec": {
   "display_name": "Python 3",
   "language": "python",
   "name": "python3"
  },
  "language_info": {
   "codemirror_mode": {
    "name": "ipython",
    "version": 3
   },
   "file_extension": ".py",
   "mimetype": "text/x-python",
   "name": "python",
   "nbconvert_exporter": "python",
   "pygments_lexer": "ipython3",
   "version": "3.6.6"
  }
 },
 "nbformat": 4,
 "nbformat_minor": 2
}
